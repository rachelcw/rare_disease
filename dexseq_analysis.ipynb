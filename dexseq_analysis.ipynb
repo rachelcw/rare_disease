{
 "cells": [
  {
   "cell_type": "code",
   "execution_count": 3,
   "metadata": {},
   "outputs": [],
   "source": [
    "import pandas as pd"
   ]
  },
  {
   "cell_type": "code",
   "execution_count": 9,
   "metadata": {},
   "outputs": [],
   "source": [
    "# read gtf file\n",
    "# Define columns for the GTF file\n",
    "columns = [\"seqname\", \"source\", \"feature\", \"start\", \"end\", \"score\", \"strand\", \"frame\", \"attribute\"]\n",
    "\n",
    "# Read GTF file into a DataFrame\n",
    "df = pd.read_table(\"/data01/private/resources/GRCh38_hg38/hg38_gene.gtf\", comment=\"#\", header=None, names=columns, dtype={\"seqname\": str, \"attribute\": str})\n",
    "\n",
    "# Extract gene information\n",
    "df_genes = df[df[\"feature\"] == \"gene\"]\n",
    "\n",
    "# Extract gene_id and gene_name from the \"attribute\" column\n",
    "df_genes[\"gene_id\"] = df_genes[\"attribute\"].str.extract(r'gene_id \"([^\"]+)\"')\n",
    "df_genes[\"gene_name\"] = df_genes[\"attribute\"].str.extract(r'gene_name \"([^\"]+)\"')\n",
    "\n",
    "# Select relevant columns\n",
    "df_genes = df_genes[[\"gene_id\", \"gene_name\"]]"
   ]
  },
  {
   "cell_type": "code",
   "execution_count": 11,
   "metadata": {},
   "outputs": [],
   "source": [
    "#convert to dictionary\n",
    "dict_genes = df_genes.set_index('gene_id').to_dict()['gene_name']"
   ]
  },
  {
   "cell_type": "code",
   "execution_count": 35,
   "metadata": {},
   "outputs": [
    {
     "name": "stdout",
     "output_type": "stream",
     "text": [
      "ss\n"
     ]
    },
    {
     "name": "stdout",
     "output_type": "stream",
     "text": [
      "sr\n",
      "sh\n"
     ]
    }
   ],
   "source": [
    "# read all .dexseq_counts files from the directory and merge them into one file\n",
    "import glob\n",
    "dexseq_result = pd.DataFrame()\n",
    "list_of_dexseq_counts = glob.glob('/home/ls/rachelcw/projects/rare_disease/data/dexseq/*.dexseq_counts')\n",
    "for file in list_of_dexseq_counts:\n",
    "    sample_name = file.split('/')[-1].split('.')[0]\n",
    "    print(sample_name)\n",
    "    df = pd.read_table(file,sep='\\t', header=None, names=['gene_id_exon',sample_name])\n",
    "    if dexseq_result.empty:\n",
    "        dexseq_result = df\n",
    "    else:\n",
    "        dexseq_result = pd.merge(dexseq_result, df, how='outer', on='gene_id_exon')"
   ]
  },
  {
   "cell_type": "code",
   "execution_count": 36,
   "metadata": {},
   "outputs": [],
   "source": [
    "#drop rows that start with _\n",
    "# ss = ss[~ss['gene_id_exon'].str.startswith('_')]\n",
    "dexseq_result['gene_id'] = dexseq_result['gene_id_exon'].str.split(':', expand=True)[0]\n",
    "\n",
    "for row in dexseq_result.itertuples():\n",
    "    if '+' in row.gene_id:\n",
    "        list_gene = row.gene_id.split('+')\n",
    "        dexseq_result.at[row.Index, 'gene_name'] = [dict_genes[gene] for gene in list_gene]\n",
    "    elif '_' in row.gene_id:\n",
    "        dexseq_result.at[row.Index, 'gene_name'] = pd.NA\n",
    "    else:\n",
    "        dexseq_result.at[row.Index, 'gene_name'] = dict_genes[row.gene_id]\n"
   ]
  },
  {
   "cell_type": "code",
   "execution_count": 37,
   "metadata": {},
   "outputs": [
    {
     "data": {
      "text/html": [
       "<div>\n",
       "<style scoped>\n",
       "    .dataframe tbody tr th:only-of-type {\n",
       "        vertical-align: middle;\n",
       "    }\n",
       "\n",
       "    .dataframe tbody tr th {\n",
       "        vertical-align: top;\n",
       "    }\n",
       "\n",
       "    .dataframe thead th {\n",
       "        text-align: right;\n",
       "    }\n",
       "</style>\n",
       "<table border=\"1\" class=\"dataframe\">\n",
       "  <thead>\n",
       "    <tr style=\"text-align: right;\">\n",
       "      <th></th>\n",
       "      <th>gene_id_exon</th>\n",
       "      <th>ss</th>\n",
       "      <th>sr</th>\n",
       "      <th>sh</th>\n",
       "      <th>gene_id</th>\n",
       "      <th>gene_name</th>\n",
       "    </tr>\n",
       "  </thead>\n",
       "  <tbody>\n",
       "    <tr>\n",
       "      <th>0</th>\n",
       "      <td>ENSG00000000003:001</td>\n",
       "      <td>0</td>\n",
       "      <td>0</td>\n",
       "      <td>0</td>\n",
       "      <td>ENSG00000000003</td>\n",
       "      <td>TSPAN6</td>\n",
       "    </tr>\n",
       "    <tr>\n",
       "      <th>1</th>\n",
       "      <td>ENSG00000000003:002</td>\n",
       "      <td>21</td>\n",
       "      <td>28</td>\n",
       "      <td>12</td>\n",
       "      <td>ENSG00000000003</td>\n",
       "      <td>TSPAN6</td>\n",
       "    </tr>\n",
       "    <tr>\n",
       "      <th>2</th>\n",
       "      <td>ENSG00000000003:003</td>\n",
       "      <td>1</td>\n",
       "      <td>27</td>\n",
       "      <td>18</td>\n",
       "      <td>ENSG00000000003</td>\n",
       "      <td>TSPAN6</td>\n",
       "    </tr>\n",
       "    <tr>\n",
       "      <th>3</th>\n",
       "      <td>ENSG00000000003:004</td>\n",
       "      <td>0</td>\n",
       "      <td>0</td>\n",
       "      <td>0</td>\n",
       "      <td>ENSG00000000003</td>\n",
       "      <td>TSPAN6</td>\n",
       "    </tr>\n",
       "    <tr>\n",
       "      <th>4</th>\n",
       "      <td>ENSG00000000003:005</td>\n",
       "      <td>1</td>\n",
       "      <td>12</td>\n",
       "      <td>14</td>\n",
       "      <td>ENSG00000000003</td>\n",
       "      <td>TSPAN6</td>\n",
       "    </tr>\n",
       "  </tbody>\n",
       "</table>\n",
       "</div>"
      ],
      "text/plain": [
       "          gene_id_exon  ss  sr  sh          gene_id gene_name\n",
       "0  ENSG00000000003:001   0   0   0  ENSG00000000003    TSPAN6\n",
       "1  ENSG00000000003:002  21  28  12  ENSG00000000003    TSPAN6\n",
       "2  ENSG00000000003:003   1  27  18  ENSG00000000003    TSPAN6\n",
       "3  ENSG00000000003:004   0   0   0  ENSG00000000003    TSPAN6\n",
       "4  ENSG00000000003:005   1  12  14  ENSG00000000003    TSPAN6"
      ]
     },
     "execution_count": 37,
     "metadata": {},
     "output_type": "execute_result"
    }
   ],
   "source": [
    "dexseq_result.head()"
   ]
  },
  {
   "cell_type": "code",
   "execution_count": 22,
   "metadata": {},
   "outputs": [
    {
     "data": {
      "text/html": [
       "<div>\n",
       "<style scoped>\n",
       "    .dataframe tbody tr th:only-of-type {\n",
       "        vertical-align: middle;\n",
       "    }\n",
       "\n",
       "    .dataframe tbody tr th {\n",
       "        vertical-align: top;\n",
       "    }\n",
       "\n",
       "    .dataframe thead th {\n",
       "        text-align: right;\n",
       "    }\n",
       "</style>\n",
       "<table border=\"1\" class=\"dataframe\">\n",
       "  <thead>\n",
       "    <tr style=\"text-align: right;\">\n",
       "      <th></th>\n",
       "      <th>gene_id_exon</th>\n",
       "      <th>count</th>\n",
       "      <th>gene_id</th>\n",
       "      <th>gene_name</th>\n",
       "    </tr>\n",
       "  </thead>\n",
       "  <tbody>\n",
       "    <tr>\n",
       "      <th>664950</th>\n",
       "      <td>_ambiguous</td>\n",
       "      <td>66884</td>\n",
       "      <td>_ambiguous</td>\n",
       "      <td>NaN</td>\n",
       "    </tr>\n",
       "    <tr>\n",
       "      <th>664951</th>\n",
       "      <td>_ambiguous_readpair_position</td>\n",
       "      <td>0</td>\n",
       "      <td>_ambiguous_readpair_position</td>\n",
       "      <td>NaN</td>\n",
       "    </tr>\n",
       "  </tbody>\n",
       "</table>\n",
       "</div>"
      ],
      "text/plain": [
       "                        gene_id_exon  count                       gene_id  \\\n",
       "664950                    _ambiguous  66884                    _ambiguous   \n",
       "664951  _ambiguous_readpair_position      0  _ambiguous_readpair_position   \n",
       "\n",
       "       gene_name  \n",
       "664950       NaN  \n",
       "664951       NaN  "
      ]
     },
     "execution_count": 22,
     "metadata": {},
     "output_type": "execute_result"
    }
   ],
   "source": [
    "#concat dexseq counts file by gene_id_exon\n",
    "\n",
    "# ss['gene_name'] = ss.apply(lambda row: dict_genes[row['gene_id']], axis=1)"
   ]
  }
 ],
 "metadata": {
  "kernelspec": {
   "display_name": "bio",
   "language": "python",
   "name": "python3"
  },
  "language_info": {
   "codemirror_mode": {
    "name": "ipython",
    "version": 3
   },
   "file_extension": ".py",
   "mimetype": "text/x-python",
   "name": "python",
   "nbconvert_exporter": "python",
   "pygments_lexer": "ipython3",
   "version": "3.7.12"
  }
 },
 "nbformat": 4,
 "nbformat_minor": 2
}
