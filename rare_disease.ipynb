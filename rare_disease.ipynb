{
 "cells": [
  {
   "cell_type": "code",
   "execution_count": 1,
   "metadata": {},
   "outputs": [],
   "source": [
    "import pandas as pd"
   ]
  },
  {
   "cell_type": "code",
   "execution_count": 6,
   "metadata": {},
   "outputs": [],
   "source": [
    "# create list of blood samples from gtex #\n",
    "\n",
    "# annot=pd.read_csv(\"/data01/private/projects/splicing_rd/GTEx/GTEx_Analysis_v8_Annotations_SampleAttributesDS.txt\",sep=\"\\t\")\n",
    "# annot_blood=annot.loc[annot[\"SMTSD\"]==\"Whole Blood\"]\n",
    "\n",
    "# annot_blood[\"SAMPID\"].to_csv(\"~/projects/SPOT/sample_blood_gtex.20230319.txt\",sep=\"\\t\", index=0)"
   ]
  },
  {
   "attachments": {},
   "cell_type": "markdown",
   "metadata": {},
   "source": [
    "pipeline\n",
    "\n",
    "input: spot results-pv,mdis\n",
    "1. filtering FDR , m_dist(?)"
   ]
  }
 ],
 "metadata": {
  "kernelspec": {
   "display_name": "seaborn",
   "language": "python",
   "name": "python3"
  },
  "language_info": {
   "codemirror_mode": {
    "name": "ipython",
    "version": 3
   },
   "file_extension": ".py",
   "mimetype": "text/x-python",
   "name": "python",
   "nbconvert_exporter": "python",
   "pygments_lexer": "ipython3",
   "version": "3.10.6"
  },
  "orig_nbformat": 4,
  "vscode": {
   "interpreter": {
    "hash": "ffaf9a84c5671947886505d4f91050dbb3ba66b7127314a33a9d27ce6dea3408"
   }
  }
 },
 "nbformat": 4,
 "nbformat_minor": 2
}
