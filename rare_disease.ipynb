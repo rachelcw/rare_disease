{
 "cells": [
  {
   "cell_type": "code",
   "execution_count": 1,
   "metadata": {},
   "outputs": [],
   "source": [
    "import pandas as pd\n",
    "# import pyensembl"
   ]
  },
  {
   "cell_type": "markdown",
   "metadata": {},
   "source": [
    "Check significance of splicing events"
   ]
  },
  {
   "cell_type": "code",
   "execution_count": 2,
   "metadata": {},
   "outputs": [
    {
     "name": "stderr",
     "output_type": "stream",
     "text": [
      "INFO:pyensembl.sequence_data:Loaded sequence dictionary from /data01/home/ls/rachelcw/hg38/Homo_sapiens_assembly38.fasta.pickle\n"
     ]
    }
   ],
   "source": [
    "# genome = pyensembl.Genome(\n",
    "#     reference_name='GRCh38',\n",
    "#     annotation_name='my_genome_lab',\n",
    "#     gtf_path_or_url='/data01/private/resources/GRCh38_hg38/gencode.v34.GRCh38.annotation.gtf',\n",
    "#     transcript_fasta_paths_or_urls= \"/data01/home/ls/rachelcw/hg38/Homo_sapiens_assembly38.fasta\")\n",
    "# genome.index()\n",
    "\n"
   ]
  },
  {
   "cell_type": "code",
   "execution_count": null,
   "metadata": {},
   "outputs": [],
   "source": [
    "#check frameshift- if the event cause to frameshift\n",
    "def check_for_frameshift(ref_seq, mut_seq):\n",
    "    \"\"\"\n",
    "    Checks if the mutation introduced in the sequence causes a frameshift.\n",
    "    \n",
    "    Parameters:\n",
    "    - ref_seq: The reference DNA sequence (string)\n",
    "    - mut_seq: The mutated DNA sequence (string)\n",
    "    \n",
    "    Returns:\n",
    "    - True if the mutation causes a frameshift, False otherwise\n",
    "    \"\"\"\n",
    "    # Calculate the length difference\n",
    "    length_diff = abs(len(ref_seq) - len(mut_seq))\n",
    "    \n",
    "    # A frameshift mutation occurs if the length difference is not a multiple of three\n",
    "    is_frameshift = length_diff % 3 != 0\n",
    "    \n",
    "    return is_frameshift\n",
    "\n",
    "# Example usage\n",
    "ref_seq = \n",
    "mut_seq =   # One nucleotide deleted\n",
    "\n",
    "if check_for_frameshift(ref_seq, mut_seq):\n",
    "    print(\"The mutation causes a frameshift.\")\n",
    "else:\n",
    "    print(\"The mutation does not cause a frameshift.\")\n",
    "\n"
   ]
  },
  {
   "cell_type": "markdown",
   "metadata": {},
   "source": [
    "Gene List"
   ]
  },
  {
   "cell_type": "code",
   "execution_count": 3,
   "metadata": {},
   "outputs": [],
   "source": [
    "family=\"shefer\"\n",
    "list_of_genes = [\"BCKDHB\", \"BCKDHA\", \"DBT\",\"PPM1K\", \"DLD\", \"BCKDK\"]"
   ]
  },
  {
   "cell_type": "code",
   "execution_count": 2,
   "metadata": {},
   "outputs": [],
   "source": [
    "family=\"somech\"\n",
    "list_of_genes =\"ABL | ABL1 | AGMX1 | ARID3A | BLNK | BTK | CARD11 | CD19 | CD72 | CD79A | CD79B | CDCA7 | CIDX | CIITA | DAPP1 | DFN1 | DRIL1 | FNIP1 | GP6 | HELLS | HKE4| IGA | IGB | IGHM | IGLL | IGLL1 | IKBKB | IKZF1 | IL2RG | IMD1 | IMD2 | IMD4 | LRRC8 | LRRC8A | MAN2B1 | MANB | MHC2TA | MLLT1 | MPP7 | PIK3CD | PIK3R1 | PKCB | PLCG2 | PRKCB | PRKCB1 | PRKCB2 | PRKCM | PRKD1 | PTK6 | RFX5 | RFXANK | RFXAP | SCIDX1 | SH3KBP1 | SIGIRR | SLC39A7 | SPI1 | TCF3 | THC | TIMM8A | TLR6 | TOP2B | TTC7 | TTC7A | WAS | ZNFN1A1\"\n",
    "list_of_genes = list_of_genes.split(\" | \")"
   ]
  },
  {
   "cell_type": "code",
   "execution_count": null,
   "metadata": {},
   "outputs": [],
   "source": [
    "input_file = \"/home/ls/rachelcw/projects/rare_disease/data/shalev_gene_list.txt\"\n",
    "output_file = \"/home/ls/rachelcw/projects/rare_disease/data/shalev_gene_list.tsv\"\n",
    "with open(input_file, 'r') as infile, open(output_file, 'w') as outfile:\n",
    "    for line in infile:\n",
    "        data = line.strip().split(' | ')\n",
    "        outfile.write('\\n'.join(data) )"
   ]
  },
  {
   "cell_type": "markdown",
   "metadata": {},
   "source": [
    "AS analyzing\n"
   ]
  },
  {
   "cell_type": "code",
   "execution_count": 3,
   "metadata": {},
   "outputs": [],
   "source": [
    "#ENSG00000173295.10:t:8244078-8244355\n",
    "# read majiq output\n",
    "majiq_file = f\"/home/ls/rachelcw/projects/rare_disease/data/{family}/healthy_patient.deltapsi_filtered_results.tsv\"\n",
    "majiq_df = pd.read_csv(majiq_file, sep='\\t')\n",
    "majiq_df.rename(columns={'#Gene Name': 'gene_name'}, inplace=True)\n",
    "\n"
   ]
  },
  {
   "cell_type": "code",
   "execution_count": 72,
   "metadata": {},
   "outputs": [
    {
     "data": {
      "text/plain": [
       "Index(['gene_name', 'Gene ID', 'LSV ID', 'E(dPSI) per LSV junction',\n",
       "       'P(|dPSI|>=0.20) per LSV junction', 'P(|dPSI|<=0.05) per LSV junction',\n",
       "       'healthy E(PSI)', 'patient E(PSI)', 'LSV Type', 'A5SS', 'A3SS', 'ES',\n",
       "       'Num. Junctions', 'Num. Exons', 'De Novo Junctions', 'chr', 'strand',\n",
       "       'Junctions coords', 'Exons coords', 'IR coords', 'UCSC LSV Link',\n",
       "       'event'],\n",
       "      dtype='object')"
      ]
     },
     "execution_count": 72,
     "metadata": {},
     "output_type": "execute_result"
    }
   ],
   "source": [
    "majiq_df.columns"
   ]
  },
  {
   "cell_type": "code",
   "execution_count": 11,
   "metadata": {},
   "outputs": [],
   "source": [
    "# convert the columns A3SS, A5SS, ES to one column- \"event\"\n",
    "\n",
    "majiq_df[\"event\"] = majiq_df[\"A3SS\"].apply(lambda x: \"A3SS;\" if x else \"\")\n",
    "majiq_df[\"event\"] = majiq_df[\"event\"] + majiq_df[\"A5SS\"].apply(lambda x: \"A5SS;\" if x else \"\")\n",
    "majiq_df[\"event\"] = majiq_df[\"event\"] + majiq_df[\"ES\"].apply(lambda x: \"ES;\" if x else \"\")"
   ]
  },
  {
   "cell_type": "code",
   "execution_count": 13,
   "metadata": {},
   "outputs": [],
   "source": [
    "majiq_results=majiq_df[['gene_name', 'Gene ID', 'LSV ID','E(dPSI) per LSV junction',\n",
    "       'P(|dPSI|>=0.20) per LSV junction', 'P(|dPSI|<=0.05) per LSV junction','Junctions coords','IR coords', 'UCSC LSV Link', 'event']]"
   ]
  },
  {
   "cell_type": "code",
   "execution_count": 15,
   "metadata": {},
   "outputs": [],
   "source": [
    "#read rmats output\n",
    "\n",
    "# # read a3ss file # #\n",
    "a3ss_file = f\"/home/ls/rachelcw/projects/rare_disease/data/{family}/A3SS.MATS.JC.txt\"\n",
    "a3ss_df = pd.read_csv(a3ss_file, sep='\\t')\n",
    "a3ss_df['junction']=[f'{row[\"chr\"]}:{row[\"flankingEE\"]}:{row[\"longExonStart_0base\"]+1}:{row[\"strand\"]}' for index, row in a3ss_df.iterrows() ]\n",
    "a3ss_df['event']=\"A3SS\"\n",
    "# # read a5ss file # #\n",
    "a5ss_df= pd.read_csv(f\"/home/ls/rachelcw/projects/rare_disease/data/{family}/A5SS.MATS.JC.txt\", sep='\\t')\n",
    "# TODO: check +1\n",
    "a5ss_df['junction']=[f'{row[\"chr\"]}:{row[\"longExonEnd\"]}:{row[\"flankingES\"]+1}:{row[\"strand\"]}' for index, row in a5ss_df.iterrows() ]\n",
    "a5ss_df['event']=\"A5SS\"\n",
    "# signif_a3ss = a3ss_df[a3ss_df['FDR'] < 0.05]\n",
    "\n",
    "# # read se file # #\n",
    "se_file = f\"/home/ls/rachelcw/projects/rare_disease/data/{family}/SE.MATS.JC.txt\"\n",
    "se_df = pd.read_csv(se_file, sep='\\t')\n",
    "se_df['junction']=[f'{row[\"chr\"]}:{row[\"upstreamEE\"]}:{row[\"downstreamES\"]+1}:{row[\"strand\"]}' for index, row in se_df.iterrows() ]\n",
    "se_df['event']=\"ES\""
   ]
  },
  {
   "cell_type": "code",
   "execution_count": 16,
   "metadata": {},
   "outputs": [],
   "source": [
    "# # read ri file # #\n",
    "ri_file = f\"/home/ls/rachelcw/projects/rare_disease/data/{family}/RI.MATS.JC.txt\"\n",
    "ri_df = pd.read_csv(ri_file, sep='\\t')\n",
    "ri_df['junction']=[f'{row[\"chr\"]}:{row[\"upstreamEE\"]}:{row[\"downstreamES\"]}:{row[\"strand\"]}' for index, row in ri_df.iterrows() ]\n",
    "ri_df['event']=\"RI\"\n",
    "# # read mxe file # #\n",
    "mxe_file = f\"/home/ls/rachelcw/projects/rare_disease/data/{family}/MXE.MATS.JC.txt\"\n",
    "mxe_df = pd.read_csv(mxe_file, sep='\\t')\n",
    "mxe_df['junction']=[f'{row[\"chr\"]}:{row[\"upstreamEE\"]}:{row[\"1stExonStart_0base\"]}-{row[\"1stExonEnd\"]}:{row[\"downstreamES\"]}:{row[\"strand\"]};{row[\"chr\"]}:{row[\"upstreamEE\"]}:{row[\"2ndExonStart_0base\"]}-{row[\"2ndExonEnd\"]}:{row[\"downstreamES\"]}:{row[\"strand\"]}' for index, row in mxe_df.iterrows() ]\n",
    "mxe_df['event']=\"MXE\""
   ]
  },
  {
   "cell_type": "code",
   "execution_count": 40,
   "metadata": {},
   "outputs": [],
   "source": [
    "rmats_results=pd.concat([a3ss_df, a5ss_df, se_df, ri_df, mxe_df])\n",
    "rmats_results = rmats_results[['GeneID','geneSymbol','junction', 'event','PValue','FDR', 'IncLevelDifference']]"
   ]
  },
  {
   "cell_type": "code",
   "execution_count": 41,
   "metadata": {},
   "outputs": [],
   "source": [
    "rmats_results_sig = rmats_results[rmats_results['FDR'] < 0.05] \n",
    "rmats_results_focus_gene = rmats_results[rmats_results['geneSymbol'].isin(list_of_genes)]"
   ]
  },
  {
   "cell_type": "code",
   "execution_count": 7,
   "metadata": {},
   "outputs": [],
   "source": [
    "# # # filter all files from rMATS by the list of genes\n",
    "# a3ss_df = a3ss_df[a3ss_df['geneSymbol'].isin(list_of_genes)]\n",
    "# a5ss_df = a5ss_df[a5ss_df['geneSymbol'].isin(list_of_genes)]\n",
    "# se_df = se_df[se_df['geneSymbol'].isin(list_of_genes)]\n",
    "# ri_df = ri_df[ri_df['geneSymbol'].isin(list_of_genes)]\n",
    "# mxe_df = mxe_df[mxe_df['geneSymbol'].isin(list_of_genes)]\n",
    "\n",
    "# results = []\n",
    "# # for df in [a3ss_df, a5ss_df, se_df, ri_df, mxe_df]:\n",
    "# for df in [a3ss_df, a5ss_df, se_df]:\n",
    "#     if df.empty:\n",
    "#         continue\n",
    "#     else:\n",
    "#         df = df[['geneSymbol', 'junction', 'IncLevelDifference', 'FDR','event']]\n",
    "#         df = df.rename(columns={'geneSymbol': 'gene'})\n",
    "#         df = df[df['FDR'] < 0.05]\n",
    "#         results.append(df)\n",
    "# #merge all results to 1 df\n",
    "# rmats_sig_results = pd.concat(results)\n",
    "\n"
   ]
  },
  {
   "cell_type": "code",
   "execution_count": 42,
   "metadata": {},
   "outputs": [],
   "source": [
    "# # leafcutter results # #\n",
    "# # cluster_significance # #\n",
    "lc_cluster=pd.read_csv(F\"/home/ls/rachelcw/projects/rare_disease/data/{family}/leafcutter_ds_cluster_significance.txt\",sep=\"\\t\")\n",
    "lc_cluster[[\"chr\",\"cluster\"]]=lc_cluster['cluster'].str.split(':', expand=True)\n",
    "lc_cluster[['cluster','strand']]=lc_cluster['cluster'].str.rsplit('_', expand=True, n=1)\n",
    "\n"
   ]
  },
  {
   "cell_type": "code",
   "execution_count": 43,
   "metadata": {},
   "outputs": [],
   "source": [
    "# # effect sizes # #\n",
    "lc_effect=pd.read_csv(f\"/home/ls/rachelcw/projects/rare_disease/data/{family}/leafcutter_ds_effect_sizes.txt\",sep=\"\\t\",usecols=[\"intron\",\"deltapsi\",\"patient\",\"healthy\"])\n",
    "lc_effect[['chr', 'start', 'end','cluster']] = lc_effect['intron'].str.split(':', expand=True)\n",
    "lc_effect[['cluster','strand']]=lc_effect['cluster'].str.rsplit('_', expand=True, n=1)\n",
    "lc_effect['junction']=[f'{row[\"chr\"]}:{row[\"start\"]}:{row[\"end\"]}:{row[\"strand\"]}' for index, row in lc_effect.iterrows() ]"
   ]
  },
  {
   "cell_type": "code",
   "execution_count": 44,
   "metadata": {},
   "outputs": [],
   "source": [
    "# ds[['chr', 'start', 'end','cluster']] = ds['intron'].str.split(':', expand=True)\n",
    "lc_effect.drop(['intron'], axis=1, inplace=True)\n",
    "lc_merged_df=lc_effect.merge(lc_cluster, on=[\"chr\",\"cluster\",\"strand\"], how=\"outer\")\n",
    "# table[['cluster','strand']]=table['cluster'].str.rsplit('_', expand=True, n=1)\n"
   ]
  },
  {
   "cell_type": "code",
   "execution_count": 34,
   "metadata": {},
   "outputs": [],
   "source": [
    "lc_results=lc_merged_df[['genes','junction','deltapsi','p','p.adjust']]"
   ]
  },
  {
   "cell_type": "code",
   "execution_count": 46,
   "metadata": {},
   "outputs": [],
   "source": [
    "lc_results_sig=lc_results[lc_merged_df['p.adjust'] < 0.05]\n",
    "lc_results_focus_gene = lc_results[lc_merged_df['genes'].isin(list_of_genes)]"
   ]
  },
  {
   "cell_type": "code",
   "execution_count": 47,
   "metadata": {},
   "outputs": [],
   "source": [
    "lc_results_sig_focus_gene = lc_results_sig[lc_results_sig['genes'].isin(list_of_genes)]\n",
    "rmats_results_sig_focus_gene = rmats_results_sig[rmats_results_sig['geneSymbol'].isin(list_of_genes)]"
   ]
  },
  {
   "cell_type": "code",
   "execution_count": 65,
   "metadata": {},
   "outputs": [],
   "source": [
    "# merge tables of tools\n",
    "all_results = lc_results.merge(rmats_results, on=[\"junction\"], how=\"outer\")\n",
    "all_results_sig= lc_results_sig.merge(rmats_results_sig, on=[\"junction\"], how=\"outer\")\n",
    "all_results_focus_gene = lc_results_focus_gene.merge(rmats_results_focus_gene, on=[\"junction\"], how=\"outer\")\n",
    "all_results_sig_focus_gene = lc_results_sig_focus_gene.merge(rmats_results_sig_focus_gene, on=[\"junction\"], how=\"outer\")"
   ]
  },
  {
   "cell_type": "code",
   "execution_count": 74,
   "metadata": {},
   "outputs": [],
   "source": [
    "all_results=all_results.merge(majiq_results, left_on=[\"geneSymbol\"], right_on=[\"gene_name\"], how=\"outer\")"
   ]
  },
  {
   "cell_type": "code",
   "execution_count": null,
   "metadata": {},
   "outputs": [],
   "source": [
    "all_results_sig_focus_gene[\"majiq\"]=0\n",
    "for index, row in all_results_sig_focus_gene.dropna(axis=0).iterrows():\n",
    "    junc_coords = f'{row[\"junction\"].split(\":\")[1]}-{row[\"junction\"].split(\":\")[2]}'\n",
    "    for junction in majiq_df.loc[row[\"genes\"]==majiq_df[\"gene_name\"]][\"Junctions coords\"]:\n",
    "        junction_list=junction.split(\";\")\n",
    "        if junc_coords in junction_list:\n",
    "            all_results_sig_focus_gene.loc[index, \"majiq\"]=1\n",
    "        \n",
    "# common_junctions[\"majiq\"]= [1 if junc in majiq_df[\"junction\"] else 0 for junc in common_junctions[\"junction\"]]"
   ]
  },
  {
   "cell_type": "code",
   "execution_count": 71,
   "metadata": {},
   "outputs": [
    {
     "data": {
      "text/html": [
       "<div>\n",
       "<style scoped>\n",
       "    .dataframe tbody tr th:only-of-type {\n",
       "        vertical-align: middle;\n",
       "    }\n",
       "\n",
       "    .dataframe tbody tr th {\n",
       "        vertical-align: top;\n",
       "    }\n",
       "\n",
       "    .dataframe thead th {\n",
       "        text-align: right;\n",
       "    }\n",
       "</style>\n",
       "<table border=\"1\" class=\"dataframe\">\n",
       "  <thead>\n",
       "    <tr style=\"text-align: right;\">\n",
       "      <th></th>\n",
       "      <th>genes</th>\n",
       "      <th>junction</th>\n",
       "      <th>deltapsi</th>\n",
       "      <th>p</th>\n",
       "      <th>p.adjust</th>\n",
       "      <th>GeneID</th>\n",
       "      <th>geneSymbol</th>\n",
       "      <th>event</th>\n",
       "      <th>PValue</th>\n",
       "      <th>FDR</th>\n",
       "      <th>IncLevelDifference</th>\n",
       "      <th>majiq</th>\n",
       "    </tr>\n",
       "  </thead>\n",
       "  <tbody>\n",
       "    <tr>\n",
       "      <th>3</th>\n",
       "      <td>SIGIRR</td>\n",
       "      <td>chr11:406538:407062:-</td>\n",
       "      <td>-0.142069</td>\n",
       "      <td>0.008705</td>\n",
       "      <td>0.045999</td>\n",
       "      <td>ENSG00000185187</td>\n",
       "      <td>SIGIRR</td>\n",
       "      <td>ES</td>\n",
       "      <td>0.000000e+00</td>\n",
       "      <td>0.000000e+00</td>\n",
       "      <td>0.261</td>\n",
       "      <td>1</td>\n",
       "    </tr>\n",
       "    <tr>\n",
       "      <th>4</th>\n",
       "      <td>SIGIRR</td>\n",
       "      <td>chr11:406538:407062:-</td>\n",
       "      <td>-0.142069</td>\n",
       "      <td>0.008705</td>\n",
       "      <td>0.045999</td>\n",
       "      <td>ENSG00000185187</td>\n",
       "      <td>SIGIRR</td>\n",
       "      <td>ES</td>\n",
       "      <td>0.000000e+00</td>\n",
       "      <td>0.000000e+00</td>\n",
       "      <td>0.445</td>\n",
       "      <td>1</td>\n",
       "    </tr>\n",
       "    <tr>\n",
       "      <th>9</th>\n",
       "      <td>SIGIRR</td>\n",
       "      <td>chr11:408206:414823:-</td>\n",
       "      <td>-0.010672</td>\n",
       "      <td>0.000286</td>\n",
       "      <td>0.009377</td>\n",
       "      <td>ENSG00000185187</td>\n",
       "      <td>SIGIRR</td>\n",
       "      <td>ES</td>\n",
       "      <td>3.231813e-07</td>\n",
       "      <td>3.105439e-06</td>\n",
       "      <td>0.195</td>\n",
       "      <td>1</td>\n",
       "    </tr>\n",
       "    <tr>\n",
       "      <th>12</th>\n",
       "      <td>SIGIRR</td>\n",
       "      <td>chr11:408893:414823:-</td>\n",
       "      <td>0.035647</td>\n",
       "      <td>0.000286</td>\n",
       "      <td>0.009377</td>\n",
       "      <td>ENSG00000185187</td>\n",
       "      <td>SIGIRR</td>\n",
       "      <td>ES</td>\n",
       "      <td>3.687717e-12</td>\n",
       "      <td>7.052437e-11</td>\n",
       "      <td>-0.189</td>\n",
       "      <td>1</td>\n",
       "    </tr>\n",
       "    <tr>\n",
       "      <th>13</th>\n",
       "      <td>SIGIRR</td>\n",
       "      <td>chr11:408893:414823:-</td>\n",
       "      <td>0.035647</td>\n",
       "      <td>0.000286</td>\n",
       "      <td>0.009377</td>\n",
       "      <td>ENSG00000185187</td>\n",
       "      <td>SIGIRR</td>\n",
       "      <td>ES</td>\n",
       "      <td>1.705446e-10</td>\n",
       "      <td>2.639399e-09</td>\n",
       "      <td>-0.097</td>\n",
       "      <td>1</td>\n",
       "    </tr>\n",
       "    <tr>\n",
       "      <th>21</th>\n",
       "      <td>CIITA</td>\n",
       "      <td>chr16:10901558:10901798:+</td>\n",
       "      <td>0.004488</td>\n",
       "      <td>0.000034</td>\n",
       "      <td>0.003187</td>\n",
       "      <td>ENSG00000179583</td>\n",
       "      <td>CIITA</td>\n",
       "      <td>A3SS</td>\n",
       "      <td>6.797442e-07</td>\n",
       "      <td>4.039746e-06</td>\n",
       "      <td>0.060</td>\n",
       "      <td>1</td>\n",
       "    </tr>\n",
       "    <tr>\n",
       "      <th>23</th>\n",
       "      <td>CIITA</td>\n",
       "      <td>chr16:10901558:10902658:+</td>\n",
       "      <td>0.028206</td>\n",
       "      <td>0.000034</td>\n",
       "      <td>0.003187</td>\n",
       "      <td>ENSG00000179583</td>\n",
       "      <td>CIITA</td>\n",
       "      <td>ES</td>\n",
       "      <td>4.260358e-03</td>\n",
       "      <td>1.534893e-02</td>\n",
       "      <td>-0.166</td>\n",
       "      <td>1</td>\n",
       "    </tr>\n",
       "    <tr>\n",
       "      <th>30</th>\n",
       "      <td>ARID3A</td>\n",
       "      <td>chr19:960164:964248:+</td>\n",
       "      <td>-0.149832</td>\n",
       "      <td>0.005809</td>\n",
       "      <td>0.037248</td>\n",
       "      <td>ENSG00000116017</td>\n",
       "      <td>ARID3A</td>\n",
       "      <td>ES</td>\n",
       "      <td>2.961320e-04</td>\n",
       "      <td>1.538675e-03</td>\n",
       "      <td>0.060</td>\n",
       "      <td>1</td>\n",
       "    </tr>\n",
       "    <tr>\n",
       "      <th>36</th>\n",
       "      <td>TCF3</td>\n",
       "      <td>chr19:1611849:1615285:-</td>\n",
       "      <td>-0.141521</td>\n",
       "      <td>0.000332</td>\n",
       "      <td>0.009941</td>\n",
       "      <td>ENSG00000071564</td>\n",
       "      <td>TCF3</td>\n",
       "      <td>ES</td>\n",
       "      <td>2.257142e-07</td>\n",
       "      <td>2.226614e-06</td>\n",
       "      <td>0.470</td>\n",
       "      <td>1</td>\n",
       "    </tr>\n",
       "    <tr>\n",
       "      <th>37</th>\n",
       "      <td>TCF3</td>\n",
       "      <td>chr19:1611849:1615285:-</td>\n",
       "      <td>-0.141521</td>\n",
       "      <td>0.000332</td>\n",
       "      <td>0.009941</td>\n",
       "      <td>ENSG00000071564</td>\n",
       "      <td>TCF3</td>\n",
       "      <td>ES</td>\n",
       "      <td>3.482188e-05</td>\n",
       "      <td>2.248011e-04</td>\n",
       "      <td>0.322</td>\n",
       "      <td>1</td>\n",
       "    </tr>\n",
       "    <tr>\n",
       "      <th>41</th>\n",
       "      <td>TCF3</td>\n",
       "      <td>chr19:1612433:1615686:-</td>\n",
       "      <td>-0.059635</td>\n",
       "      <td>0.000332</td>\n",
       "      <td>0.009941</td>\n",
       "      <td>ENSG00000071564</td>\n",
       "      <td>TCF3</td>\n",
       "      <td>ES</td>\n",
       "      <td>6.293136e-04</td>\n",
       "      <td>3.014023e-03</td>\n",
       "      <td>-0.191</td>\n",
       "      <td>1</td>\n",
       "    </tr>\n",
       "    <tr>\n",
       "      <th>42</th>\n",
       "      <td>TCF3</td>\n",
       "      <td>chr19:1612433:1615686:-</td>\n",
       "      <td>-0.059635</td>\n",
       "      <td>0.000332</td>\n",
       "      <td>0.009941</td>\n",
       "      <td>ENSG00000071564</td>\n",
       "      <td>TCF3</td>\n",
       "      <td>ES</td>\n",
       "      <td>4.177267e-04</td>\n",
       "      <td>2.085136e-03</td>\n",
       "      <td>-0.200</td>\n",
       "      <td>1</td>\n",
       "    </tr>\n",
       "    <tr>\n",
       "      <th>68</th>\n",
       "      <td>IKZF1</td>\n",
       "      <td>chr7:50327757:50382540:+</td>\n",
       "      <td>-0.169647</td>\n",
       "      <td>0.000614</td>\n",
       "      <td>0.014050</td>\n",
       "      <td>ENSG00000185811</td>\n",
       "      <td>IKZF1</td>\n",
       "      <td>ES</td>\n",
       "      <td>2.680309e-06</td>\n",
       "      <td>2.172127e-05</td>\n",
       "      <td>0.184</td>\n",
       "      <td>1</td>\n",
       "    </tr>\n",
       "    <tr>\n",
       "      <th>69</th>\n",
       "      <td>IKZF1</td>\n",
       "      <td>chr7:50327757:50382540:+</td>\n",
       "      <td>-0.169647</td>\n",
       "      <td>0.000614</td>\n",
       "      <td>0.014050</td>\n",
       "      <td>ENSG00000185811</td>\n",
       "      <td>IKZF1</td>\n",
       "      <td>ES</td>\n",
       "      <td>1.188272e-10</td>\n",
       "      <td>1.862124e-09</td>\n",
       "      <td>0.474</td>\n",
       "      <td>1</td>\n",
       "    </tr>\n",
       "  </tbody>\n",
       "</table>\n",
       "</div>"
      ],
      "text/plain": [
       "     genes                   junction  deltapsi         p  p.adjust  \\\n",
       "3   SIGIRR      chr11:406538:407062:- -0.142069  0.008705  0.045999   \n",
       "4   SIGIRR      chr11:406538:407062:- -0.142069  0.008705  0.045999   \n",
       "9   SIGIRR      chr11:408206:414823:- -0.010672  0.000286  0.009377   \n",
       "12  SIGIRR      chr11:408893:414823:-  0.035647  0.000286  0.009377   \n",
       "13  SIGIRR      chr11:408893:414823:-  0.035647  0.000286  0.009377   \n",
       "21   CIITA  chr16:10901558:10901798:+  0.004488  0.000034  0.003187   \n",
       "23   CIITA  chr16:10901558:10902658:+  0.028206  0.000034  0.003187   \n",
       "30  ARID3A      chr19:960164:964248:+ -0.149832  0.005809  0.037248   \n",
       "36    TCF3    chr19:1611849:1615285:- -0.141521  0.000332  0.009941   \n",
       "37    TCF3    chr19:1611849:1615285:- -0.141521  0.000332  0.009941   \n",
       "41    TCF3    chr19:1612433:1615686:- -0.059635  0.000332  0.009941   \n",
       "42    TCF3    chr19:1612433:1615686:- -0.059635  0.000332  0.009941   \n",
       "68   IKZF1   chr7:50327757:50382540:+ -0.169647  0.000614  0.014050   \n",
       "69   IKZF1   chr7:50327757:50382540:+ -0.169647  0.000614  0.014050   \n",
       "\n",
       "             GeneID geneSymbol event        PValue           FDR  \\\n",
       "3   ENSG00000185187     SIGIRR    ES  0.000000e+00  0.000000e+00   \n",
       "4   ENSG00000185187     SIGIRR    ES  0.000000e+00  0.000000e+00   \n",
       "9   ENSG00000185187     SIGIRR    ES  3.231813e-07  3.105439e-06   \n",
       "12  ENSG00000185187     SIGIRR    ES  3.687717e-12  7.052437e-11   \n",
       "13  ENSG00000185187     SIGIRR    ES  1.705446e-10  2.639399e-09   \n",
       "21  ENSG00000179583      CIITA  A3SS  6.797442e-07  4.039746e-06   \n",
       "23  ENSG00000179583      CIITA    ES  4.260358e-03  1.534893e-02   \n",
       "30  ENSG00000116017     ARID3A    ES  2.961320e-04  1.538675e-03   \n",
       "36  ENSG00000071564       TCF3    ES  2.257142e-07  2.226614e-06   \n",
       "37  ENSG00000071564       TCF3    ES  3.482188e-05  2.248011e-04   \n",
       "41  ENSG00000071564       TCF3    ES  6.293136e-04  3.014023e-03   \n",
       "42  ENSG00000071564       TCF3    ES  4.177267e-04  2.085136e-03   \n",
       "68  ENSG00000185811      IKZF1    ES  2.680309e-06  2.172127e-05   \n",
       "69  ENSG00000185811      IKZF1    ES  1.188272e-10  1.862124e-09   \n",
       "\n",
       "    IncLevelDifference  majiq  \n",
       "3                0.261      1  \n",
       "4                0.445      1  \n",
       "9                0.195      1  \n",
       "12              -0.189      1  \n",
       "13              -0.097      1  \n",
       "21               0.060      1  \n",
       "23              -0.166      1  \n",
       "30               0.060      1  \n",
       "36               0.470      1  \n",
       "37               0.322      1  \n",
       "41              -0.191      1  \n",
       "42              -0.200      1  \n",
       "68               0.184      1  \n",
       "69               0.474      1  "
      ]
     },
     "execution_count": 71,
     "metadata": {},
     "output_type": "execute_result"
    }
   ],
   "source": [
    "all_results_sig_focus_gene.loc[all_results_sig_focus_gene[\"majiq\"]==1]"
   ]
  },
  {
   "cell_type": "code",
   "execution_count": 34,
   "metadata": {},
   "outputs": [],
   "source": [
    "# check how and which junction from rmats and lc are the same\n",
    "junctions = []\n",
    "for junction in lc_sig_results['junction']:\n",
    "    if junction in rmats_sig_results['junction']:\n",
    "        junctions.append(junction)"
   ]
  },
  {
   "cell_type": "code",
   "execution_count": 43,
   "metadata": {},
   "outputs": [],
   "source": [
    "#  get the common gene name between the 3 tools results\n",
    "common_genes = set(rmats_sig_results['gene']).intersection(set(lc_sig_results['genes'])).intersection(set(majiq_df['gene_name']))\n",
    "# get all the gene names from the 3 tools results\n",
    "all_genes = set(rmats_sig_results['gene']).union(set(lc_sig_results['genes'])).union(set(majiq_df['gene_name']))"
   ]
  },
  {
   "cell_type": "code",
   "execution_count": 45,
   "metadata": {},
   "outputs": [
    {
     "name": "stdout",
     "output_type": "stream",
     "text": [
      "all genes: {'ARID3A', 'MAN2B1', 'IKBKB', 'BTK', 'CIITA', 'RFX5', 'TCF3', 'SIGIRR', 'WAS', 'CD79A', 'PLCG2', 'RFXANK', 'IKZF1', 'SPI1', 'CD79B', 'SH3KBP1', 'FNIP1', 'TTC7A', 'PRKCB', 'MLLT1', 'PIK3CD', 'CARD11'}\n",
      "common genes: {'ARID3A', 'MAN2B1', 'IKBKB', 'IKZF1', 'CIITA', 'RFX5', 'SIGIRR', 'TCF3', 'SH3KBP1'}\n"
     ]
    }
   ],
   "source": [
    "print(f\"all genes: {all_genes}\")\n",
    "print(f\"common genes: {common_genes}\")"
   ]
  },
  {
   "cell_type": "code",
   "execution_count": 51,
   "metadata": {},
   "outputs": [
    {
     "name": "stdout",
     "output_type": "stream",
     "text": [
      "rmats_lc_genes: {'ARID3A', 'MAN2B1', 'IKBKB', 'IKZF1', 'CIITA', 'RFX5', 'SIGIRR', 'TCF3', 'SH3KBP1', 'PRKCB'}\n",
      "rmats_lc_all_gene: {'ARID3A', 'MAN2B1', 'IKBKB', 'CIITA', 'RFX5', 'TCF3', 'SIGIRR', 'WAS', 'CD79A', 'PLCG2', 'RFXANK', 'IKZF1', 'SPI1', 'CD79B', 'SH3KBP1', 'FNIP1', 'TTC7A', 'PRKCB', 'PIK3CD', 'CARD11'}\n",
      "ARID3A, MAN2B1, IKBKB, BTK, CIITA, RFX5, TCF3, SIGIRR, WAS, CD79A, PLCG2, RFXANK, IKZF1, SPI1, CD79B, SH3KBP1, FNIP1, TTC7A, PRKCB, MLLT1, PIK3CD, CARD11\n"
     ]
    }
   ],
   "source": [
    "rmats_lc_genes=set(rmats_sig_results['gene']).intersection(set(lc_sig_results['genes']))\n",
    "print(f\"rmats_lc_genes: {rmats_lc_genes}\")\n",
    "rmats_lc_all_gene=set(rmats_sig_results['gene']).union(set(lc_sig_results['genes']))\n",
    "print(f\"rmats_lc_all_gene: {rmats_lc_all_gene}\")\n",
    "# print wo ' '\n",
    "print(', '.join(all_genes))"
   ]
  },
  {
   "cell_type": "markdown",
   "metadata": {},
   "source": [
    "IGV prepare "
   ]
  },
  {
   "cell_type": "code",
   "execution_count": 5,
   "metadata": {},
   "outputs": [],
   "source": [
    "TPM_whole_blood=pd.read_csv(\"/home/ls/rachelcw/projects/rare_disease/data/Ectodermal_Dysplasia/mean_expression_values_genes_whole_Blood.csv\",index_col=0)\n",
    "# genes_ed=pd.read_csv(\"/home/ls/rachelcw/projects/rare_disease/data/Ectodermal_Dysplasia/ectodermal_dysplasia.txt\",index_col=0)\n",
    "#read text file and convert to list\n",
    "genes_ed = open(\"/home/ls/rachelcw/projects/rare_disease/data/Ectodermal_Dysplasia/ectodermal_dysplasia.txt\", \"r\")\n",
    "genes_ed = genes_ed.read().split('\\n')\n",
    "#filter TPM file, Description column by genes_ed list\n",
    "TPM_whole_blood=TPM_whole_blood[TPM_whole_blood.Description.isin(genes_ed)]\n",
    "\n",
    "\n",
    "\n"
   ]
  },
  {
   "cell_type": "code",
   "execution_count": 13,
   "metadata": {},
   "outputs": [],
   "source": [
    "# TPM_whole_blood.Mean_Expression.mean()=14.211836648698597\n",
    "# TPM_whole_blood.Mean_Expression.max()\n",
    "genes_to_check=TPM_whole_blood[TPM_whole_blood.Mean_Expression>5]\n",
    "genes_to_check_list=genes_to_check.Description.tolist()\n",
    "# write to file\n",
    "with open(\"/home/ls/rachelcw/projects/rare_disease/data/Ectodermal_Dysplasia/genes_to_check.txt\", \"w\") as output:\n",
    "    output.write(\"\\n\".join(genes_to_check_list))\n"
   ]
  },
  {
   "cell_type": "code",
   "execution_count": 3,
   "metadata": {},
   "outputs": [],
   "source": [
    "table=pd.read_csv('/home/ls/rachelcw/projects/SPOT/spot/example_data/exon_exon_junction_file.txt', sep=' ')"
   ]
  },
  {
   "cell_type": "code",
   "execution_count": 6,
   "metadata": {},
   "outputs": [],
   "source": [
    "# create list of blood samples from gtex #\n",
    "\n",
    "# annot=pd.read_csv(\"/data01/private/projects/splicing_rd/GTEx/GTEx_Analysis_v8_Annotations_SampleAttributesDS.txt\",sep=\"\\t\")\n",
    "# annot_blood=annot.loc[annot[\"SMTSD\"]==\"Whole Blood\"]\n",
    "\n",
    "# annot_blood[\"SAMPID\"].to_csv(\"~/projects/SPOT/sample_blood_gtex.20230319.txt\",sep=\"\\t\", index=0)"
   ]
  },
  {
   "attachments": {},
   "cell_type": "markdown",
   "metadata": {},
   "source": [
    "Intergration leafcutter results (next step with spot)"
   ]
  },
  {
   "cell_type": "code",
   "execution_count": 16,
   "metadata": {},
   "outputs": [],
   "source": [
    "# # cluster_significance # #\n",
    "cluster=pd.read_csv(\"/home/ls/rachelcw/projects/rare_disease/data/shalev/leafcutter_ds_cluster_significance.txt\",sep=\"\\t\")\n",
    "cluster[[\"chr\",\"cluster\"]]=cluster['cluster'].str.split(':', expand=True)\n"
   ]
  },
  {
   "cell_type": "code",
   "execution_count": 19,
   "metadata": {},
   "outputs": [],
   "source": [
    "#gene list\n",
    "genes=pd.read_csv(\"/home/ls/rachelcw/projects/rare_disease/data/shalev /shalev_gene_list.tsv\",sep=\"\\n\", header=None)"
   ]
  },
  {
   "cell_type": "code",
   "execution_count": 10,
   "metadata": {},
   "outputs": [],
   "source": [
    "# # effect sizes # #\n",
    "ds=pd.read_csv(\"/home/ls/rachelcw/projects/rare_disease/data/pilot1_ds_effect_sizes.txt\",sep=\"\\t\",usecols=[\"intron\",\"deltapsi\",\"patient\",\"healthy\"])\n",
    "ds[['chr', 'start', 'end','cluster']] = ds['intron'].str.split(':', expand=True)\n",
    "ds.drop(['intron'], axis=1, inplace=True)"
   ]
  },
  {
   "cell_type": "code",
   "execution_count": 15,
   "metadata": {},
   "outputs": [],
   "source": [
    "# merge cluster and ds by chr and cluster with both columns of the dataframes#\n",
    "table=ds.merge(cluster, on=[\"chr\",\"cluster\"], how=\"outer\")\n",
    "table[['cluster','strand']]=table['cluster'].str.rsplit('_', expand=True, n=1)\n",
    "# table=table[[\"chr\",\"start\",\"end\",\"strand\",\"healthy\",\"patient\",\"deltapsi\",\"p.adjust\",\"cluster\"]]\n",
    "# table.dropna(axis=0)"
   ]
  },
  {
   "cell_type": "code",
   "execution_count": 20,
   "metadata": {},
   "outputs": [],
   "source": [
    "# # # Mahalanobis distance  # # #\n",
    "data_md = pd.read_table('~/projects/SPOT/spot/spot_cll.20230206_md.txt',sep='\\t',usecols=[0,1,2,3]).head()\n",
    "\n",
    "# # # p_value # # #\n",
    "data_pv = pd.read_table('~/projects/SPOT/spot/spot_cll.20230206_emperical_pvalue.txt',sep='\\t',usecols=[0,1,2,3]).head()\n",
    "    \n",
    "# merge pv+md\n",
    "data_merge=pd.merge(left=data_pv,right=data_md,how='outer',on=['CLUSTER_ID'],suffixes=('_spot.pv','_spot.md'))\n",
    "data_merge.rename(columns={'CLUSTER_ID':'cluster'}, inplace=True)\n",
    "data_merge[\"cluster\"]=data_merge[\"cluster\"].str.replace(\"_NA\",\"\")\n",
    "\n"
   ]
  },
  {
   "cell_type": "code",
   "execution_count": 21,
   "metadata": {},
   "outputs": [],
   "source": [
    "spot_leafcutter=table.merge(data_merge, on=[\"cluster\"], how=\"right\")"
   ]
  },
  {
   "cell_type": "code",
   "execution_count": 100,
   "metadata": {},
   "outputs": [],
   "source": [
    "spot_leafcutter.to_csv(\"/home/ls/rachelcw/projects/rare_disease/data/leafcutter_spot_results.bed\",sep=\"\\t\", index=0)"
   ]
  },
  {
   "attachments": {},
   "cell_type": "markdown",
   "metadata": {},
   "source": [
    "convert leafcutter results to bed format"
   ]
  },
  {
   "cell_type": "code",
   "execution_count": 5,
   "metadata": {},
   "outputs": [],
   "source": [
    "cluster=pd.read_csv(\"/home/ls/rachelcw/projects/LEAFCUTTER/lc_20230108/lc_20230108_perind_numers.counts.gz\", sep=\" \")"
   ]
  },
  {
   "cell_type": "code",
   "execution_count": 22,
   "metadata": {},
   "outputs": [],
   "source": [
    "ds=pd.read_csv(\"/home/ls/rachelcw/projects/LEAFCUTTER/DS/DS.five_percent/analysis.20230115/ds.a1.20230115_effect_sizes.txt\", sep=\"\\t\", usecols=[\"intron\"])"
   ]
  },
  {
   "cell_type": "code",
   "execution_count": 23,
   "metadata": {},
   "outputs": [],
   "source": [
    "ds[['chrom', 'start', 'end','clu']] = ds['intron'].str.split(':', expand=True)\n",
    "\n",
    "# Drop columns\n",
    "ds.drop(['intron','cluster'], axis=1, inplace=True)\n",
    "\n",
    "# Write the BED file\n",
    "ds.to_csv('/home/ls/rachelcw/projects/rare_disease/output_file.bed', sep='\\t', index=False, header=False)"
   ]
  },
  {
   "cell_type": "code",
   "execution_count": 3,
   "metadata": {},
   "outputs": [
    {
     "name": "stderr",
     "output_type": "stream",
     "text": [
      "/home/ls/rachelcw/miniconda3/envs/bio/lib/python3.7/site-packages/IPython/core/interactiveshell.py:3552: DtypeWarning: Columns (1,2,3,4,5,6,7,8,9,10,11,12,13,14,15,16,17,18,19,20,21,22,23,24,25,26,27,28,29,30,31,32,33,34,35,36,37,38,39,40,41,42,43,44,45,46,47,48,49,50,51,52,53,54,55,56,57,58,59,60,61,62,63,64,65,66,67,68,69,70,71,72,73,74,75,76,77,78,79,80,81,82,83,84,85,86,87,88,89,90,91,92,93,94,95,96,97,98,99,100,101,102,103,104,105,106,107,108,109,110,111,112,113,114,115,116,117,118,119,120,121,122,123,124,125,126,127,128,129,130,131,132,133,134,135,136,137,138,139,140,141,142,143,144,145,146,147,148,149,150,151,152,153,154,155,156,157,158,159,160,161,162,163,164,165,166,167,168,169,170,171,172,173,174,175,176,177,178,179,180,181,182,183,184,185,186,187,188,189,190,191,192,193,194,195,196,197,198,199,200,201,202,203,204,205,206,207,208,209,210,211,212,213,214,215,216,217,218,219,220,221,222,223,224,225,226,227,228,229,230,231,232,233,234,235,236,237,238,239,240,241,242,243,244,245,246,247,248,249,250,251,252,253,254,255,256,257,258,259,260,261,262,263,264,265,266,267,268,269,270,271,272,273,274,275,276,277,278,279,280,281,282,283,284,285,286,287,288,289,290,291,292,293,294,295,296,297,298,299,300,301,302,303,304,305,306,307,308,309,310,311,312,313,314,315,316,317,318,319,320,321,322,323,324,325,326,327,328,329,330,331,332,333,334,335,336,337,338,339,340,341,342,343,344,345,346,347,348,349,350,351,352,353,354,355,356,357,358,359,360,361,362,363,364,365,366,367,368,369,370,371,372,373,374,375,376,377,378,379,380,381,382,383,384,385,386,387,388,389,390,391,392,393,394,395,396,397,398,399,400,401,402,403,404,405,406,407,408,409,410,411,412,413,414,415,416,417,418,419,420,421,422,423,424,425,426,427,428,429,430,431,432,433,434,435,436,437,438,439,440,441,442,443,444,445,446,447,448,449,450,451,452,453,454,455,456,457,458,459,460,461,462,463,464,465,466,467,468,469,470,471,472,473,474,475,476,477,478,479,480,481,482,483,484,485,486,487,488,489,490,491,492,493,494,495,496,497,498,499,500,501,502,503,504,505,506,507,508,509,510,511,512,513,514,515,516,517,518,519,520,521,522,523,524,525,526,527,528,529,530,531,532,533,534,535,536,537,538,539,540,541,542,543,544,545,546,547,548,549,550,551,552,553,554,555,556,557,558,559,560,561,562,563,564,565,566,567,568,569,570,571,572,573,574,575,576,577,578,579,580,581,582,583,584,585,586,587,588,589,590,591,592,593,594,595,596,597,598,599,600,601,602,603,604,605,606,607,608,609,610,611,612,613,614,615,616,617,618,619,620,621,622,623,624,625,626,627,628,629,630,631,632,633,634,635,636,637,638,639,640,641,642,643,644,645,646,647,648,649,650,651,652,653,654,655,656,657,658,659,660,661,662,663,664,665,666,667,668,669,670,671,672,673,674,675,676,677,678,679,680,681,682,683,684,685,686,687,688,689,690,691,692,693,694,695,696,697,698,699,700,701,702,703,704,705,706,707,708,709,710,711,712) have mixed types.Specify dtype option on import or set low_memory=False.\n",
      "  exec(code_obj, self.user_global_ns, self.user_ns)\n"
     ]
    }
   ],
   "source": [
    "table=pd.read_csv(\"/home/ls/rachelcw/projects/SPOT/spot/spot_cll.20230206_emperical_pvalue.txt\", sep=\"\\t\", header=None)"
   ]
  },
  {
   "cell_type": "code",
   "execution_count": 1,
   "metadata": {},
   "outputs": [],
   "source": [
    "import seaborn as sns\n",
    "import matplotlib.pyplot as plt\n",
    "import pandas as pd"
   ]
  },
  {
   "cell_type": "code",
   "execution_count": 2,
   "metadata": {},
   "outputs": [],
   "source": [
    "patient1=pd.read_csv(\"/home/ls/rachelcw/projects/rare_disease/data//heatmap_rp/patient1.tsv\", sep=\"\\t\", header=None, names=[\"exon\",\"patient1\"])\n",
    "patient2=pd.read_csv(\"/home/ls/rachelcw/projects/rare_disease/data//heatmap_rp/patient2.tsv\", sep=\"\\t\", header=None, names=[\"exon\",\"patient2\"])\n",
    "healthy=pd.read_csv(\"/home/ls/rachelcw/projects/rare_disease/data//heatmap_rp/healthy.tsv\", sep=\"\\t\", header=None, names=[\"exon\",\"healthy\"])"
   ]
  },
  {
   "cell_type": "code",
   "execution_count": 7,
   "metadata": {},
   "outputs": [],
   "source": [
    "patient=pd.merge(left=patient1,right=patient2,how='outer',on=['exon'])\n",
    "count_table=pd.merge(left=patient,right=healthy,how='outer',on=['exon'])"
   ]
  },
  {
   "cell_type": "code",
   "execution_count": 8,
   "metadata": {},
   "outputs": [],
   "source": [
    "count_table.set_index('exon', inplace=True)\n",
    "# rename index col\n",
    "count_table.index.name = 'exon count'\n"
   ]
  },
  {
   "cell_type": "code",
   "execution_count": 21,
   "metadata": {},
   "outputs": [
    {
     "data": {
      "text/plain": [
       "[Text(0, 0, 'ENSG00000010671:001'),\n",
       " Text(0, 1, 'ENSG00000010671:002'),\n",
       " Text(0, 2, 'ENSG00000010671:003'),\n",
       " Text(0, 3, 'ENSG00000010671:004'),\n",
       " Text(0, 4, 'ENSG00000010671:005'),\n",
       " Text(0, 5, 'ENSG00000010671:006'),\n",
       " Text(0, 6, 'ENSG00000010671:007'),\n",
       " Text(0, 7, 'ENSG00000010671:008'),\n",
       " Text(0, 8, 'ENSG00000010671:009'),\n",
       " Text(0, 9, 'ENSG00000010671:010'),\n",
       " Text(0, 10, 'ENSG00000010671:011'),\n",
       " Text(0, 11, 'ENSG00000010671:012'),\n",
       " Text(0, 12, 'ENSG00000010671:013'),\n",
       " Text(0, 13, 'ENSG00000010671:014'),\n",
       " Text(0, 14, 'ENSG00000010671:015'),\n",
       " Text(0, 15, 'ENSG00000010671:016'),\n",
       " Text(0, 16, 'ENSG00000010671:017'),\n",
       " Text(0, 17, 'ENSG00000010671:018'),\n",
       " Text(0, 18, 'ENSG00000010671:019'),\n",
       " Text(0, 19, 'ENSG00000010671:020'),\n",
       " Text(0, 20, 'ENSG00000010671:021'),\n",
       " Text(0, 21, 'ENSG00000010671:022'),\n",
       " Text(0, 22, 'ENSG00000010671:023'),\n",
       " Text(0, 23, 'ENSG00000010671:024'),\n",
       " Text(0, 24, 'ENSG00000010671:025'),\n",
       " Text(0, 25, 'ENSG00000010671:026'),\n",
       " Text(0, 26, 'ENSG00000010671:027'),\n",
       " Text(0, 27, 'ENSG00000010671:028'),\n",
       " Text(0, 28, 'ENSG00000010671:029'),\n",
       " Text(0, 29, 'ENSG00000010671:030'),\n",
       " Text(0, 30, 'ENSG00000010671:031'),\n",
       " Text(0, 31, 'ENSG00000010671:032'),\n",
       " Text(0, 32, 'ENSG00000010671:033'),\n",
       " Text(0, 33, 'ENSG00000010671:034'),\n",
       " Text(0, 34, 'ENSG00000010671:035'),\n",
       " Text(0, 35, 'ENSG00000010671:036'),\n",
       " Text(0, 36, 'ENSG00000010671:037'),\n",
       " Text(0, 37, 'ENSG00000010671:038'),\n",
       " Text(0, 38, 'ENSG00000010671:039')]"
      ]
     },
     "execution_count": 21,
     "metadata": {},
     "output_type": "execute_result"
    },
    {
     "data": {
      "image/png": "[encoded data removed]",
      "text/plain": [
       "<Figure size 720x1440 with 2 Axes>"
      ]
     },
     "metadata": {
      "needs_background": "light"
     },
     "output_type": "display_data"
    }
   ],
   "source": [
    "plt.figure(figsize=(10, 20))  # Set the figure siz\n",
    "ax=sns.heatmap(count_table, cmap=\"YlGnBu\")\n",
    "plt.title('BTK Exon Counts - Healthy vs Patient')\n",
    "# set sub title\n",
    "# plt.suptitle('DEXSeq results', fontsize=10)\n",
    "# display all exons in y axis\n",
    "ax.set_yticks(range(len(count_table)))\n",
    "ax.set_yticklabels(count_table.index)\n",
    "\n"
   ]
  }
 ],
 "metadata": {
  "kernelspec": {
   "display_name": "seaborn",
   "language": "python",
   "name": "python3"
  },
  "language_info": {
   "codemirror_mode": {
    "name": "ipython",
    "version": 3
   },
   "file_extension": ".py",
   "mimetype": "text/x-python",
   "name": "python",
   "nbconvert_exporter": "python",
   "pygments_lexer": "ipython3",
   "version": "3.7.12"
  },
  "orig_nbformat": 4,
  "vscode": {
   "interpreter": {
    "hash": "ffaf9a84c5671947886505d4f91050dbb3ba66b7127314a33a9d27ce6dea3408"
   }
  }
 },
 "nbformat": 4,
 "nbformat_minor": 2
}
