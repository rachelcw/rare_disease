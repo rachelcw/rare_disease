{
 "cells": [
  {
   "cell_type": "code",
   "execution_count": 1,
   "metadata": {},
   "outputs": [],
   "source": [
    "import pandas as pd"
   ]
  },
  {
   "cell_type": "code",
   "execution_count": 5,
   "metadata": {},
   "outputs": [
    {
     "data": {
      "text/plain": [
       "sample_0\\tsample_1\\tsample_2\\tsample_3\\tsample_4\\tsample_5\\tsample_6\\tsample_7\\tsample_8\\tsample_9\\tsample_10\\tsample_11\\tsample_12\\tsample_13\\tsample_14\\tsample_15\\tsample_16\\tsample_17\\tsample_18\\tsample_19\\tsample_20\\tsample_21\\tsample_22\\tsample_23\\tsample_24\\tsample_25\\tsample_26\\tsample_27\\tsample_28\\tsample_29\\tsample_30\\tsample_31\\tsample_32\\tsample_33\\tsample_34\\tsample_35\\tsample_36\\tsample_37\\tsample_38\\tsample_39\\tsample_40\\tsample_41\\tsample_42\\tsample_43\\tsample_44\\tsample_45\\tsample_46\\tsample_47\\tsample_48\\tsample_49\\tsample_50\\tsample_51\\tsample_52\\tsample_53\\tsample_54\\tsample_55\\tsample_56\\tsample_57\\tsample_58\\tsample_59\\tsample_60\\tsample_61\\tsample_62\\tsample_63\\tsample_64\\tsample_65\\tsample_66\\tsample_67\\tsample_68\\tsample_69\\tsample_70\\tsample_71\\tsample_72\\tsample_73\\tsample_74\\tsample_75\\tsample_76\\tsample_77\\tsample_78\\tsample_79\\tsample_80\\tsample_81\\tsample_82\\tsample_83\\tsample_84\\tsample_85\\tsample_86\\tsample_87\\tsample_88\\tsample_89\\tsample_90\\tsample_91\\tsample_92\\tsample_93\\tsample_94\\tsample_95\\tsample_96\\tsample_97\\tsample_98\\tsample_99\\tsample_100\\tsample_101\\tsample_102\\tsample_103\\tsample_104\\tsample_105\\tsample_106\\tsample_107\\tsample_108\\tsample_109\\tsample_110\\tsample_111\\tsample_112\\tsample_113\\tsample_114\\tsample_115\\tsample_116\\tsample_117\\tsample_118\\tsample_119\\tsample_120\\tsample_121\\tsample_122\\tsample_123\\tsample_124\\tsample_125\\tsample_126\\tsample_127\\tsample_128\\tsample_129\\tsample_130\\tsample_131\\tsample_132\\tsample_133\\tsample_134\\tsample_135\\tsample_136\\tsample_137\\tsample_138\\tsample_139\\tsample_140\\tsample_141\\tsample_142\\tsample_143\\tsample_144\\tsample_145\\tsample_146\\tsample_147\\tsample_148\\tsample_149\\tsample_150\\tsample_151\\tsample_152\\tsample_153\\tsample_154\\tsample_155\\tsample_156\\tsample_157\\tsample_158\\tsample_159\\tsample_160\\tsample_161\\tsample_162\\tsample_163\\tsample_164\\tsample_165\\tsample_166\\tsample_167\\tsample_168\\tsample_169\\tsample_170\\tsample_171\\tsample_172\\tsample_173\\tsample_174\\tsample_175\\tsample_176\\tsample_177\\tsample_178\\tsample_179\\tsample_180\\tsample_181\\tsample_182\\tsample_183\\tsample_184\\tsample_185\\tsample_186\\tsample_187\\tsample_188\\tsample_189\\tsample_190\\tsample_191\\tsample_192\\tsample_193\\tsample_194\\tsample_195\\tsample_196\\tsample_197\\tsample_198\\tsample_199\\tsample_200\\tsample_201\\tsample_202\\tsample_203\\tsample_204\\tsample_205\\tsample_206\\tsample_207\\tsample_208\\tsample_209\\tsample_210\\tsample_211\\tsample_212\\tsample_213\\tsample_214\\tsample_215\\tsample_216\\tsample_217\\tsample_218\\tsample_219\\tsample_220\\tsample_221\\tsample_222\\tsample_223\\tsample_224\\tsample_225\\tsample_226\\tsample_227\\tsample_228\\tsample_229\\tsample_230\\tsample_231\\tsample_232\\tsample_233\\tsample_234\\tsample_235\\tsample_236\\tsample_237\\tsample_238\\tsample_239\\tsample_240\\tsample_241\\tsample_242\\tsample_243\\tsample_244\\tsample_245\\tsample_246\\tsample_247\\tsample_248\\tsample_249\\tsample_250\\tsample_251\\tsample_252\\tsample_253\\tsample_254\\tsample_255\\tsample_256\\tsample_257\\tsample_258\\tsample_259\\tsample_260\\tsample_261\\tsample_262\\tsample_263\\tsample_264\\tsample_265\\tsample_266\\tsample_267\\tsample_268\\tsample_269\\tsample_270\\tsample_271\\tsample_272\\tsample_273\\tsample_274\\tsample_275\\tsample_276\\tsample_277\\tsample_278\\tsample_279\\tsample_280\\tsample_281\\tsample_282\\tsample_283\\tsample_284\\tsample_285\\tsample_286\\tsample_287\\tsample_288\\tsample_289\\tsample_290\\tsample_291\\tsample_292\\tsample_293\\tsample_294\\tsample_295\\tsample_296\\tsample_297\\tsample_298\\tsample_299    chr8:86470410:86474820:cluster85732:ENSG000001...\n",
       "dtype: object"
      ]
     },
     "execution_count": 5,
     "metadata": {},
     "output_type": "execute_result"
    }
   ],
   "source": [
    "table=pd.read_csv('/home/ls/rachelcw/projects/SPOT/spot/example_data/exon_exon_junction_file.txt', sep=' ')"
   ]
  },
  {
   "cell_type": "code",
   "execution_count": 6,
   "metadata": {},
   "outputs": [],
   "source": [
    "# create list of blood samples from gtex #\n",
    "\n",
    "# annot=pd.read_csv(\"/data01/private/projects/splicing_rd/GTEx/GTEx_Analysis_v8_Annotations_SampleAttributesDS.txt\",sep=\"\\t\")\n",
    "# annot_blood=annot.loc[annot[\"SMTSD\"]==\"Whole Blood\"]\n",
    "\n",
    "# annot_blood[\"SAMPID\"].to_csv(\"~/projects/SPOT/sample_blood_gtex.20230319.txt\",sep=\"\\t\", index=0)"
   ]
  },
  {
   "attachments": {},
   "cell_type": "markdown",
   "metadata": {},
   "source": [
    "Intergration leafcutter results (next step with spot)"
   ]
  },
  {
   "cell_type": "code",
   "execution_count": 2,
   "metadata": {},
   "outputs": [],
   "source": [
    "# # cluster_significance # #\n",
    "cluster=pd.read_csv(\"/home/ls/rachelcw/projects/rare_disease/data/pilot1_ds_cluster_significance.txt\",sep=\"\\t\",usecols=[\"cluster\",\"p.adjust\"])\n",
    "cluster[[\"chrom\",\"clu\"]]=cluster['cluster'].str.split(':', expand=True)\n",
    "cluster.drop(['cluster'], axis=1, inplace=True)\n"
   ]
  },
  {
   "cell_type": "code",
   "execution_count": 3,
   "metadata": {},
   "outputs": [],
   "source": [
    "# # effect sizes # #\n",
    "ds=pd.read_csv(\"/home/ls/rachelcw/projects/rare_disease/data/pilot1_ds_effect_sizes.txt\",sep=\"\\t\",usecols=[\"intron\",\"deltapsi\"])\n",
    "ds[['chrom', 'start', 'end','clu']] = ds['intron'].str.split(':', expand=True)\n",
    "ds.drop(['intron'], axis=1, inplace=True)"
   ]
  },
  {
   "cell_type": "code",
   "execution_count": 6,
   "metadata": {},
   "outputs": [],
   "source": [
    "table=ds.merge(cluster, on=[\"chrom\",\"clu\"], how=\"left\")\n",
    "# table.dropna(axis=0)"
   ]
  },
  {
   "cell_type": "code",
   "execution_count": 9,
   "metadata": {},
   "outputs": [
    {
     "ename": "MissingLocalFile",
     "evalue": "MissingFile(/data01/home/ls/rachelcw/projects/rare_disease/\"/data01/private/resources/gencode.v34.GRCh38.annotation.gtf)",
     "output_type": "error",
     "traceback": [
      "\u001b[0;31m---------------------------------------------------------------------------\u001b[0m",
      "\u001b[0;31mMissingLocalFile\u001b[0m                          Traceback (most recent call last)",
      "\u001b[0;32m<ipython-input-9-d7b9d3e405e9>\u001b[0m in \u001b[0;36m<module>\u001b[0;34m\u001b[0m\n\u001b[1;32m      8\u001b[0m     \u001b[0mannotation_name\u001b[0m\u001b[0;34m=\u001b[0m\u001b[0;34m'my_genome_lab'\u001b[0m\u001b[0;34m,\u001b[0m\u001b[0;34m\u001b[0m\u001b[0;34m\u001b[0m\u001b[0m\n\u001b[1;32m      9\u001b[0m     gtf_path_or_url='\"/data01/private/resources/gencode.v34.GRCh38.annotation.gtf')\n\u001b[0;32m---> 10\u001b[0;31m \u001b[0mdata\u001b[0m\u001b[0;34m.\u001b[0m\u001b[0mindex\u001b[0m\u001b[0;34m(\u001b[0m\u001b[0;34m)\u001b[0m\u001b[0;34m\u001b[0m\u001b[0;34m\u001b[0m\u001b[0m\n\u001b[0m\u001b[1;32m     11\u001b[0m \u001b[0;34m\u001b[0m\u001b[0m\n\u001b[1;32m     12\u001b[0m \u001b[0;31m# will return ['HLA-A']\u001b[0m\u001b[0;34m\u001b[0m\u001b[0;34m\u001b[0m\u001b[0;34m\u001b[0m\u001b[0m\n",
      "\u001b[0;32m~/miniconda3/envs/bio_sns/lib/python3.7/site-packages/pyensembl/genome.py\u001b[0m in \u001b[0;36mindex\u001b[0;34m(self, overwrite)\u001b[0m\n\u001b[1;32m    273\u001b[0m         \"\"\"\n\u001b[1;32m    274\u001b[0m         \u001b[0;32mif\u001b[0m \u001b[0mself\u001b[0m\u001b[0;34m.\u001b[0m\u001b[0mrequires_gtf\u001b[0m\u001b[0;34m:\u001b[0m\u001b[0;34m\u001b[0m\u001b[0;34m\u001b[0m\u001b[0m\n\u001b[0;32m--> 275\u001b[0;31m             \u001b[0mself\u001b[0m\u001b[0;34m.\u001b[0m\u001b[0mdb\u001b[0m\u001b[0;34m.\u001b[0m\u001b[0mconnect_or_create\u001b[0m\u001b[0;34m(\u001b[0m\u001b[0moverwrite\u001b[0m\u001b[0;34m=\u001b[0m\u001b[0moverwrite\u001b[0m\u001b[0;34m)\u001b[0m\u001b[0;34m\u001b[0m\u001b[0;34m\u001b[0m\u001b[0m\n\u001b[0m\u001b[1;32m    276\u001b[0m         \u001b[0;32mif\u001b[0m \u001b[0mself\u001b[0m\u001b[0;34m.\u001b[0m\u001b[0mrequires_transcript_fasta\u001b[0m\u001b[0;34m:\u001b[0m\u001b[0;34m\u001b[0m\u001b[0;34m\u001b[0m\u001b[0m\n\u001b[1;32m    277\u001b[0m             \u001b[0mself\u001b[0m\u001b[0;34m.\u001b[0m\u001b[0mtranscript_sequences\u001b[0m\u001b[0;34m.\u001b[0m\u001b[0mindex\u001b[0m\u001b[0;34m(\u001b[0m\u001b[0moverwrite\u001b[0m\u001b[0;34m=\u001b[0m\u001b[0moverwrite\u001b[0m\u001b[0;34m)\u001b[0m\u001b[0;34m\u001b[0m\u001b[0;34m\u001b[0m\u001b[0m\n",
      "\u001b[0;32m~/miniconda3/envs/bio_sns/lib/python3.7/site-packages/pyensembl/genome.py\u001b[0m in \u001b[0;36mdb\u001b[0;34m(self)\u001b[0m\n\u001b[1;32m    286\u001b[0m             \u001b[0;31m# make sure GTF file exists locally\u001b[0m\u001b[0;34m\u001b[0m\u001b[0;34m\u001b[0m\u001b[0;34m\u001b[0m\u001b[0m\n\u001b[1;32m    287\u001b[0m             \u001b[0;31m# and populate self.gtf_path\u001b[0m\u001b[0;34m\u001b[0m\u001b[0;34m\u001b[0m\u001b[0;34m\u001b[0m\u001b[0m\n\u001b[0;32m--> 288\u001b[0;31m             \u001b[0mself\u001b[0m\u001b[0;34m.\u001b[0m\u001b[0m_set_local_paths\u001b[0m\u001b[0;34m(\u001b[0m\u001b[0mdownload_if_missing\u001b[0m\u001b[0;34m=\u001b[0m\u001b[0;32mFalse\u001b[0m\u001b[0;34m,\u001b[0m \u001b[0moverwrite\u001b[0m\u001b[0;34m=\u001b[0m\u001b[0;32mFalse\u001b[0m\u001b[0;34m)\u001b[0m\u001b[0;34m\u001b[0m\u001b[0;34m\u001b[0m\u001b[0m\n\u001b[0m\u001b[1;32m    289\u001b[0m             \u001b[0;32mif\u001b[0m \u001b[0mself\u001b[0m\u001b[0;34m.\u001b[0m\u001b[0mgtf_path\u001b[0m \u001b[0;32mis\u001b[0m \u001b[0;32mNone\u001b[0m\u001b[0;34m:\u001b[0m\u001b[0;34m\u001b[0m\u001b[0;34m\u001b[0m\u001b[0m\n\u001b[1;32m    290\u001b[0m                 raise ValueError(\n",
      "\u001b[0;32m~/miniconda3/envs/bio_sns/lib/python3.7/site-packages/pyensembl/genome.py\u001b[0m in \u001b[0;36m_set_local_paths\u001b[0;34m(self, download_if_missing, overwrite)\u001b[0m\n\u001b[1;32m    222\u001b[0m             self.gtf_path = self._get_gtf_path(\n\u001b[1;32m    223\u001b[0m                 \u001b[0mdownload_if_missing\u001b[0m\u001b[0;34m=\u001b[0m\u001b[0mdownload_if_missing\u001b[0m\u001b[0;34m,\u001b[0m\u001b[0;34m\u001b[0m\u001b[0;34m\u001b[0m\u001b[0m\n\u001b[0;32m--> 224\u001b[0;31m                 overwrite=overwrite)\n\u001b[0m\u001b[1;32m    225\u001b[0m         \u001b[0;32mif\u001b[0m \u001b[0mself\u001b[0m\u001b[0;34m.\u001b[0m\u001b[0mrequires_transcript_fasta\u001b[0m\u001b[0;34m:\u001b[0m\u001b[0;34m\u001b[0m\u001b[0;34m\u001b[0m\u001b[0m\n\u001b[1;32m    226\u001b[0m             self.transcript_fasta_paths = self._get_transcript_fasta_paths(\n",
      "\u001b[0;32m~/miniconda3/envs/bio_sns/lib/python3.7/site-packages/pyensembl/genome.py\u001b[0m in \u001b[0;36m_get_gtf_path\u001b[0;34m(self, download_if_missing, overwrite)\u001b[0m\n\u001b[1;32m    186\u001b[0m             \u001b[0mpath_or_url\u001b[0m\u001b[0;34m=\u001b[0m\u001b[0mself\u001b[0m\u001b[0;34m.\u001b[0m\u001b[0m_gtf_path_or_url\u001b[0m\u001b[0;34m,\u001b[0m\u001b[0;34m\u001b[0m\u001b[0;34m\u001b[0m\u001b[0m\n\u001b[1;32m    187\u001b[0m             \u001b[0mdownload_if_missing\u001b[0m\u001b[0;34m=\u001b[0m\u001b[0mdownload_if_missing\u001b[0m\u001b[0;34m,\u001b[0m\u001b[0;34m\u001b[0m\u001b[0;34m\u001b[0m\u001b[0m\n\u001b[0;32m--> 188\u001b[0;31m             overwrite=overwrite)\n\u001b[0m\u001b[1;32m    189\u001b[0m \u001b[0;34m\u001b[0m\u001b[0m\n\u001b[1;32m    190\u001b[0m     def _get_transcript_fasta_paths(\n",
      "\u001b[0;32m~/miniconda3/envs/bio_sns/lib/python3.7/site-packages/pyensembl/genome.py\u001b[0m in \u001b[0;36m_get_cached_path\u001b[0;34m(self, field_name, path_or_url, download_if_missing, overwrite)\u001b[0m\n\u001b[1;32m    179\u001b[0m             \u001b[0mpath_or_url\u001b[0m\u001b[0;34m=\u001b[0m\u001b[0mpath_or_url\u001b[0m\u001b[0;34m,\u001b[0m\u001b[0;34m\u001b[0m\u001b[0;34m\u001b[0m\u001b[0m\n\u001b[1;32m    180\u001b[0m             \u001b[0mdownload_if_missing\u001b[0m\u001b[0;34m=\u001b[0m\u001b[0mdownload_if_missing\u001b[0m\u001b[0;34m,\u001b[0m\u001b[0;34m\u001b[0m\u001b[0;34m\u001b[0m\u001b[0m\n\u001b[0;32m--> 181\u001b[0;31m             overwrite=overwrite)\n\u001b[0m\u001b[1;32m    182\u001b[0m \u001b[0;34m\u001b[0m\u001b[0m\n\u001b[1;32m    183\u001b[0m     \u001b[0;32mdef\u001b[0m \u001b[0m_get_gtf_path\u001b[0m\u001b[0;34m(\u001b[0m\u001b[0mself\u001b[0m\u001b[0;34m,\u001b[0m \u001b[0mdownload_if_missing\u001b[0m\u001b[0;34m=\u001b[0m\u001b[0;32mFalse\u001b[0m\u001b[0;34m,\u001b[0m \u001b[0moverwrite\u001b[0m\u001b[0;34m=\u001b[0m\u001b[0;32mFalse\u001b[0m\u001b[0;34m)\u001b[0m\u001b[0;34m:\u001b[0m\u001b[0;34m\u001b[0m\u001b[0;34m\u001b[0m\u001b[0m\n",
      "\u001b[0;32m~/miniconda3/envs/bio_sns/lib/python3.7/site-packages/pyensembl/download_cache.py\u001b[0m in \u001b[0;36mlocal_path_or_install_error\u001b[0;34m(self, field_name, path_or_url, download_if_missing, overwrite)\u001b[0m\n\u001b[1;32m    310\u001b[0m                 \u001b[0mpath_or_url\u001b[0m\u001b[0;34m,\u001b[0m\u001b[0;34m\u001b[0m\u001b[0;34m\u001b[0m\u001b[0m\n\u001b[1;32m    311\u001b[0m                 \u001b[0mdownload_if_missing\u001b[0m\u001b[0;34m=\u001b[0m\u001b[0mdownload_if_missing\u001b[0m\u001b[0;34m,\u001b[0m\u001b[0;34m\u001b[0m\u001b[0;34m\u001b[0m\u001b[0m\n\u001b[0;32m--> 312\u001b[0;31m                 overwrite=overwrite)\n\u001b[0m\u001b[1;32m    313\u001b[0m         \u001b[0;32mexcept\u001b[0m \u001b[0mMissingRemoteFile\u001b[0m\u001b[0;34m:\u001b[0m\u001b[0;34m\u001b[0m\u001b[0;34m\u001b[0m\u001b[0m\n\u001b[1;32m    314\u001b[0m             \u001b[0mself\u001b[0m\u001b[0;34m.\u001b[0m\u001b[0m_raise_missing_file_error\u001b[0m\u001b[0;34m(\u001b[0m\u001b[0;34m{\u001b[0m\u001b[0mfield_name\u001b[0m\u001b[0;34m:\u001b[0m \u001b[0mpath_or_url\u001b[0m\u001b[0;34m}\u001b[0m\u001b[0;34m)\u001b[0m\u001b[0;34m\u001b[0m\u001b[0;34m\u001b[0m\u001b[0m\n",
      "\u001b[0;32m~/miniconda3/envs/bio_sns/lib/python3.7/site-packages/pyensembl/download_cache.py\u001b[0m in \u001b[0;36mdownload_or_copy_if_necessary\u001b[0;34m(self, path_or_url, download_if_missing, overwrite)\u001b[0m\n\u001b[1;32m    288\u001b[0m                 overwrite)\n\u001b[1;32m    289\u001b[0m         \u001b[0;32melse\u001b[0m\u001b[0;34m:\u001b[0m\u001b[0;34m\u001b[0m\u001b[0;34m\u001b[0m\u001b[0m\n\u001b[0;32m--> 290\u001b[0;31m             \u001b[0;32mreturn\u001b[0m \u001b[0mself\u001b[0m\u001b[0;34m.\u001b[0m\u001b[0m_copy_if_necessary\u001b[0m\u001b[0;34m(\u001b[0m\u001b[0mpath_or_url\u001b[0m\u001b[0;34m,\u001b[0m \u001b[0moverwrite\u001b[0m\u001b[0;34m)\u001b[0m\u001b[0;34m\u001b[0m\u001b[0;34m\u001b[0m\u001b[0m\n\u001b[0m\u001b[1;32m    291\u001b[0m \u001b[0;34m\u001b[0m\u001b[0m\n\u001b[1;32m    292\u001b[0m     \u001b[0;32mdef\u001b[0m \u001b[0m_raise_missing_file_error\u001b[0m\u001b[0;34m(\u001b[0m\u001b[0mself\u001b[0m\u001b[0;34m,\u001b[0m \u001b[0mmissing_urls_dict\u001b[0m\u001b[0;34m)\u001b[0m\u001b[0;34m:\u001b[0m\u001b[0;34m\u001b[0m\u001b[0;34m\u001b[0m\u001b[0m\n",
      "\u001b[0;32m~/miniconda3/envs/bio_sns/lib/python3.7/site-packages/pyensembl/download_cache.py\u001b[0m in \u001b[0;36m_copy_if_necessary\u001b[0;34m(self, local_path, overwrite)\u001b[0m\n\u001b[1;32m    243\u001b[0m         \u001b[0mlocal_path\u001b[0m \u001b[0;34m=\u001b[0m \u001b[0mabspath\u001b[0m\u001b[0;34m(\u001b[0m\u001b[0mlocal_path\u001b[0m\u001b[0;34m)\u001b[0m\u001b[0;34m\u001b[0m\u001b[0;34m\u001b[0m\u001b[0m\n\u001b[1;32m    244\u001b[0m         \u001b[0;32mif\u001b[0m \u001b[0;32mnot\u001b[0m \u001b[0mexists\u001b[0m\u001b[0;34m(\u001b[0m\u001b[0mlocal_path\u001b[0m\u001b[0;34m)\u001b[0m\u001b[0;34m:\u001b[0m\u001b[0;34m\u001b[0m\u001b[0;34m\u001b[0m\u001b[0m\n\u001b[0;32m--> 245\u001b[0;31m             \u001b[0;32mraise\u001b[0m \u001b[0mMissingLocalFile\u001b[0m\u001b[0;34m(\u001b[0m\u001b[0mlocal_path\u001b[0m\u001b[0;34m)\u001b[0m\u001b[0;34m\u001b[0m\u001b[0;34m\u001b[0m\u001b[0m\n\u001b[0m\u001b[1;32m    246\u001b[0m         \u001b[0;32melif\u001b[0m \u001b[0;32mnot\u001b[0m \u001b[0mself\u001b[0m\u001b[0;34m.\u001b[0m\u001b[0mcopy_local_files_to_cache\u001b[0m\u001b[0;34m:\u001b[0m\u001b[0;34m\u001b[0m\u001b[0;34m\u001b[0m\u001b[0m\n\u001b[1;32m    247\u001b[0m             \u001b[0;32mreturn\u001b[0m \u001b[0mlocal_path\u001b[0m\u001b[0;34m\u001b[0m\u001b[0;34m\u001b[0m\u001b[0m\n",
      "\u001b[0;31mMissingLocalFile\u001b[0m: MissingFile(/data01/home/ls/rachelcw/projects/rare_disease/\"/data01/private/resources/gencode.v34.GRCh38.annotation.gtf)"
     ]
    }
   ],
   "source": [
    "import pyensembl\n",
    "# from pyensembl import EnsemblRelease\n",
    "# data = EnsemblRelease(77)\n",
    "# pyensembl install --release 77 --species homo_sapiens\n",
    "\n",
    "data = pyensembl.Genome(\n",
    "    reference_name='GRCh38',\n",
    "    annotation_name='my_genome_lab',\n",
    "    gtf_path_or_url='\"/data01/private/resources/gencode.v34.GRCh38.annotation.gtf')\n",
    "data.index()\n",
    "\n",
    "# will return ['HLA-A']\n",
    "# gene_names = data.gene_names_at_locus(contig=6, position=29945884)"
   ]
  },
  {
   "attachments": {},
   "cell_type": "markdown",
   "metadata": {},
   "source": [
    "convert leafcutter results to bed format"
   ]
  },
  {
   "cell_type": "code",
   "execution_count": 5,
   "metadata": {},
   "outputs": [],
   "source": [
    "cluster=pd.read_csv(\"/home/ls/rachelcw/projects/LEAFCUTTER/lc_20230108/lc_20230108_perind_numers.counts.gz\", sep=\" \")"
   ]
  },
  {
   "cell_type": "code",
   "execution_count": 22,
   "metadata": {},
   "outputs": [],
   "source": [
    "ds=pd.read_csv(\"/home/ls/rachelcw/projects/LEAFCUTTER/DS/DS.five_percent/analysis.20230115/ds.a1.20230115_effect_sizes.txt\", sep=\"\\t\", usecols=[\"intron\"])"
   ]
  },
  {
   "cell_type": "code",
   "execution_count": 23,
   "metadata": {},
   "outputs": [],
   "source": [
    "ds[['chrom', 'start', 'end','clu']] = ds['intron'].str.split(':', expand=True)\n",
    "\n",
    "# Drop columns\n",
    "ds.drop(['intron','cluster'], axis=1, inplace=True)\n",
    "\n",
    "# Write the BED file\n",
    "ds.to_csv('/home/ls/rachelcw/projects/rare_disease/output_file.bed', sep='\\t', index=False, header=False)"
   ]
  }
 ],
 "metadata": {
  "kernelspec": {
   "display_name": "seaborn",
   "language": "python",
   "name": "python3"
  },
  "language_info": {
   "codemirror_mode": {
    "name": "ipython",
    "version": 3
   },
   "file_extension": ".py",
   "mimetype": "text/x-python",
   "name": "python",
   "nbconvert_exporter": "python",
   "pygments_lexer": "ipython3",
   "version": "3.7.12"
  },
  "orig_nbformat": 4,
  "vscode": {
   "interpreter": {
    "hash": "ffaf9a84c5671947886505d4f91050dbb3ba66b7127314a33a9d27ce6dea3408"
   }
  }
 },
 "nbformat": 4,
 "nbformat_minor": 2
}
