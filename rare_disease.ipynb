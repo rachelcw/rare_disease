{
 "cells": [
  {
   "cell_type": "code",
   "execution_count": 2,
   "metadata": {},
   "outputs": [],
   "source": [
    "import pandas as pd"
   ]
  },
  {
   "cell_type": "code",
   "execution_count": 2,
   "metadata": {},
   "outputs": [],
   "source": [
    "table=pd.read_csv('/home/ls/rachelcw/projects/SPOT/spot/example_data/exon_exon_junction_file.txt', sep=' ')"
   ]
  },
  {
   "cell_type": "code",
   "execution_count": 6,
   "metadata": {},
   "outputs": [],
   "source": [
    "# create list of blood samples from gtex #\n",
    "\n",
    "# annot=pd.read_csv(\"/data01/private/projects/splicing_rd/GTEx/GTEx_Analysis_v8_Annotations_SampleAttributesDS.txt\",sep=\"\\t\")\n",
    "# annot_blood=annot.loc[annot[\"SMTSD\"]==\"Whole Blood\"]\n",
    "\n",
    "# annot_blood[\"SAMPID\"].to_csv(\"~/projects/SPOT/sample_blood_gtex.20230319.txt\",sep=\"\\t\", index=0)"
   ]
  },
  {
   "attachments": {},
   "cell_type": "markdown",
   "metadata": {},
   "source": [
    "Intergration leafcutter results (next step with spot)"
   ]
  },
  {
   "cell_type": "code",
   "execution_count": 89,
   "metadata": {},
   "outputs": [],
   "source": [
    "# # cluster_significance # #\n",
    "cluster=pd.read_csv(\"/home/ls/rachelcw/projects/rare_disease/data/pilot1_ds_cluster_significance.txt\",sep=\"\\t\",usecols=[\"cluster\",\"p.adjust\"])\n",
    "cluster[[\"chr\",\"cluster\"]]=cluster['cluster'].str.split(':', expand=True)\n"
   ]
  },
  {
   "cell_type": "code",
   "execution_count": 90,
   "metadata": {},
   "outputs": [],
   "source": [
    "# # effect sizes # #\n",
    "ds=pd.read_csv(\"/home/ls/rachelcw/projects/rare_disease/data/pilot1_ds_effect_sizes.txt\",sep=\"\\t\",usecols=[\"intron\",\"deltapsi\",\"patient\",\"healthy\"])\n",
    "ds[['chr', 'start', 'end','cluster']] = ds['intron'].str.split(':', expand=True)\n",
    "ds.drop(['intron'], axis=1, inplace=True)"
   ]
  },
  {
   "cell_type": "code",
   "execution_count": 92,
   "metadata": {},
   "outputs": [],
   "source": [
    "table=ds.merge(cluster, on=[\"chr\",\"cluster\"], how=\"left\")\n",
    "table[['cluster','strand']]=table['cluster'].str.rsplit('_', expand=True, n=1)\n",
    "table[\"strand\"]=\"+\"\n",
    "# table.dropna(axis=0)"
   ]
  },
  {
   "cell_type": "code",
   "execution_count": 93,
   "metadata": {},
   "outputs": [],
   "source": [
    "import pyensembl\n"
   ]
  },
  {
   "cell_type": "code",
   "execution_count": 94,
   "metadata": {},
   "outputs": [],
   "source": [
    "\n",
    "data = pyensembl.Genome(\n",
    "    reference_name=\"GRCh38\",\n",
    "    annotation_name=\"GRCh38\",\n",
    "    gtf_path_or_url=\"/private/resources/gencode.v34.GRCh38.annotation.gtf\")\n",
    "\n",
    "data.index()\n",
    "# quay.io/biocontainers/pyensembl:2.1.0--pyh7cba7a3_0"
   ]
  },
  {
   "cell_type": "code",
   "execution_count": 96,
   "metadata": {},
   "outputs": [],
   "source": [
    "table[\"gene\"]=pd.NA\n",
    "\n",
    "# how to relate to mitochondrial chromosome\n",
    "for index, row in table.iterrows():\n",
    "    gene_name = data.gene_names_at_locus(contig=row[\"chr\"], position=int(row[\"start\"]),end=int(row[\"end\"]), strand=row[\"strand\"])\n",
    "    if gene_name != []:\n",
    "        table.at[index,\"gene\"]=gene_name"
   ]
  },
  {
   "cell_type": "code",
   "execution_count": 99,
   "metadata": {},
   "outputs": [],
   "source": [
    "table[[\"chr\",\"start\",\"end\",\"gene\",\"strand\",\"healthy\",\"patient\",\"deltapsi\",\"p.adjust\"]].to_csv(\"/home/ls/rachelcw/projects/rare_disease/data/leafcutter_results.bed\",sep=\"\\t\", index=0)"
   ]
  },
  {
   "attachments": {},
   "cell_type": "markdown",
   "metadata": {},
   "source": [
    "convert leafcutter results to bed format"
   ]
  },
  {
   "cell_type": "code",
   "execution_count": 5,
   "metadata": {},
   "outputs": [],
   "source": [
    "cluster=pd.read_csv(\"/home/ls/rachelcw/projects/LEAFCUTTER/lc_20230108/lc_20230108_perind_numers.counts.gz\", sep=\" \")"
   ]
  },
  {
   "cell_type": "code",
   "execution_count": 22,
   "metadata": {},
   "outputs": [],
   "source": [
    "ds=pd.read_csv(\"/home/ls/rachelcw/projects/LEAFCUTTER/DS/DS.five_percent/analysis.20230115/ds.a1.20230115_effect_sizes.txt\", sep=\"\\t\", usecols=[\"intron\"])"
   ]
  },
  {
   "cell_type": "code",
   "execution_count": 23,
   "metadata": {},
   "outputs": [],
   "source": [
    "ds[['chrom', 'start', 'end','clu']] = ds['intron'].str.split(':', expand=True)\n",
    "\n",
    "# Drop columns\n",
    "ds.drop(['intron','cluster'], axis=1, inplace=True)\n",
    "\n",
    "# Write the BED file\n",
    "ds.to_csv('/home/ls/rachelcw/projects/rare_disease/output_file.bed', sep='\\t', index=False, header=False)"
   ]
  }
 ],
 "metadata": {
  "kernelspec": {
   "display_name": "seaborn",
   "language": "python",
   "name": "python3"
  },
  "language_info": {
   "codemirror_mode": {
    "name": "ipython",
    "version": 3
   },
   "file_extension": ".py",
   "mimetype": "text/x-python",
   "name": "python",
   "nbconvert_exporter": "python",
   "pygments_lexer": "ipython3",
   "version": "3.7.12"
  },
  "orig_nbformat": 4,
  "vscode": {
   "interpreter": {
    "hash": "ffaf9a84c5671947886505d4f91050dbb3ba66b7127314a33a9d27ce6dea3408"
   }
  }
 },
 "nbformat": 4,
 "nbformat_minor": 2
}
